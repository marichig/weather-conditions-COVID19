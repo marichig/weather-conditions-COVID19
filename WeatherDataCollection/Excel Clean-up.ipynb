{
 "cells": [
  {
   "cell_type": "markdown",
   "metadata": {},
   "source": [
    "## Scale data"
   ]
  },
  {
   "cell_type": "code",
   "execution_count": null,
   "metadata": {},
   "outputs": [],
   "source": [
    "def scale_dfs(dfs, start_column_index):\n",
    "    for var in dfs:\n",
    "        dfs[var].iloc[:,start_column_index:] = dfs[var].iloc[:,start_column_index:].mul(scales[var])"
   ]
  },
  {
   "cell_type": "code",
   "execution_count": null,
   "metadata": {},
   "outputs": [],
   "source": [
    "pm_scale = 1000000000 #to micrograms\n",
    "o3_scale = 603447629\n",
    "no2_scale = 629585593\n",
    "so2_scale = 452118045 #to ppbv"
   ]
  },
  {
   "cell_type": "code",
   "execution_count": null,
   "metadata": {},
   "outputs": [],
   "source": [
    "scales = {\n",
    "    \"pm2p5\":pm_scale,\n",
    "    \"o3\":o3_scale,\n",
    "    \"no2\":no2_scale,\n",
    "    \"so2\":so2_scale\n",
    "         }"
   ]
  },
  {
   "cell_type": "code",
   "execution_count": null,
   "metadata": {},
   "outputs": [],
   "source": [
    "pollution_sheet_names = [\"pm2p5\", \"o3\", \"no2\", \"so2\"]\n",
    "main_var_sheet_names = [\"maxtempC\",\"mintempC\",\"avgtempC\",\"cloudcover\",\"humidity\",\"precipMM\",\"pressure\",\n",
    "           \"windspeedKmph\",\"totalSnow_cm\",'sunHour','moon_illumination','moonrise',\n",
    "           'moonset','sunrise','sunset','DewPointC','FeelsLikeC',#'HeatIndexC',\n",
    "            'WindChillC','WindGustKmph','visibility','winddirDegree','uvIndex'\n",
    "          ]\n",
    "\n",
    "vars_not_to_weight = ['moonrise','moonset','sunrise','sunset']"
   ]
  },
  {
   "cell_type": "code",
   "execution_count": null,
   "metadata": {},
   "outputs": [],
   "source": [
    "file_name = \"\""
   ]
  },
  {
   "cell_type": "code",
   "execution_count": null,
   "metadata": {},
   "outputs": [],
   "source": [
    "dfs = pd.read_excel(file_name + \".xlsx\", index_col = 0, sheet_name = pollution_sheet_names)"
   ]
  },
  {
   "cell_type": "code",
   "execution_count": null,
   "metadata": {},
   "outputs": [],
   "source": [
    "start_column_index = list(dfs[\"pm2p5\"].columns).index(\"2019-01-01\")\n",
    "start_column_index"
   ]
  },
  {
   "cell_type": "code",
   "execution_count": null,
   "metadata": {},
   "outputs": [],
   "source": [
    "dfs[\"pm2p5\"].head()"
   ]
  },
  {
   "cell_type": "code",
   "execution_count": null,
   "metadata": {},
   "outputs": [],
   "source": [
    "scale_dfs(dfs, start_column_index)"
   ]
  },
  {
   "cell_type": "code",
   "execution_count": null,
   "metadata": {},
   "outputs": [],
   "source": [
    "dfs[\"pm2p5\"].head()"
   ]
  },
  {
   "cell_type": "code",
   "execution_count": null,
   "metadata": {},
   "outputs": [],
   "source": [
    "writer = pd.ExcelWriter('scaled_'+ file_name +'.xlsx', engine='xlsxwriter')\n",
    "for var in dfs:\n",
    "    print(\"Saving\", var)\n",
    "    dfs[var].to_excel(writer, sheet_name = var, index = True)\n",
    "    \n",
    "writer.save()"
   ]
  },
  {
   "cell_type": "markdown",
   "metadata": {},
   "source": [
    "## Replacing Missing Data with avg of neighboring values"
   ]
  },
  {
   "cell_type": "code",
   "execution_count": null,
   "metadata": {},
   "outputs": [],
   "source": [
    "def flag_pollution_value(row, index):\n",
    "    #After Scaling, threshold chosen after inspection (correct values always more than 10^-3, avg is ~\n",
    "    return row[index] < 10**(-5)"
   ]
  },
  {
   "cell_type": "code",
   "execution_count": null,
   "metadata": {},
   "outputs": [],
   "source": [
    "def flag_temperature_value(row, index):\n",
    "    return row[index]==0 and abs(row[index-1]) > 8 and abs(row[index+1]) > 8"
   ]
  },
  {
   "cell_type": "code",
   "execution_count": null,
   "metadata": {},
   "outputs": [],
   "source": [
    "def flag_UV_value(row, index):\n",
    "    return row[index]==0"
   ]
  },
  {
   "cell_type": "code",
   "execution_count": null,
   "metadata": {},
   "outputs": [],
   "source": [
    "def avg_neighbors(row, index):\n",
    "    return (row[index-2]+ row[index-1] + row[index+1]+row[index+2])/4"
   ]
  },
  {
   "cell_type": "code",
   "execution_count": null,
   "metadata": {},
   "outputs": [],
   "source": [
    "def interpolate_pollution_data(dfs, start_column_index):\n",
    "    for var in dfs:\n",
    "        num_corrections = 0\n",
    "        arr = dfs[var].to_numpy()\n",
    "        n = len(arr[0])\n",
    "        for row in arr:\n",
    "            for j in range(start_column_index+2,n-2): #avoid first 2 and last 2 vals for avging\n",
    "                if flag_pollution_value(row, j):\n",
    "                    row[j] = avg_neighbors(row, j)\n",
    "                    num_corrections += 1\n",
    "        dfs[var] = pd.DataFrame(arr, columns = dfs[var].columns, index = dfs[var].index)\n",
    "        \n",
    "        print(num_corrections,\"corrections made for variable\",var)"
   ]
  },
  {
   "cell_type": "code",
   "execution_count": null,
   "metadata": {},
   "outputs": [],
   "source": [
    "def interpolate_temperature_data(dfs, start_column_index):\n",
    "    num_corrections = 0\n",
    "    maxTemp = dfs[\"maxtempC\"].to_numpy()\n",
    "    minTemp = dfs[\"mintempC\"].to_numpy()\n",
    "    avgTemp = dfs[\"avgtempC\"].to_numpy()\n",
    "    n = len(maxTemp[0])\n",
    "    for i, row in enumerate(maxTemp):\n",
    "        for j in range(start_column_index+2,n-2): #avoid first 2 and last 2 vals for avging\n",
    "            if flag_temperature_value(row, j):\n",
    "                row[j] = avg_neighbors(row, j)\n",
    "                minTemp[i][j] = avg_neighbors(minTemp[i], j)\n",
    "                avgTemp[i][j] = avg_neighbors(avgTemp[i], j)\n",
    "                num_corrections+=1\n",
    "            \n",
    "    dfs[\"maxtempC\"] = pd.DataFrame(maxTemp, columns = dfs[\"maxtempC\"].columns, index = dfs[\"maxtempC\"].index)\n",
    "    dfs[\"mintempC\"] = pd.DataFrame(minTemp, columns = dfs[\"mintempC\"].columns, index = dfs[\"mintempC\"].index)\n",
    "    dfs[\"avgtempC\"] = pd.DataFrame(avgTemp, columns = dfs[\"avgtempC\"].columns, index = dfs[\"avgtempC\"].index)\n",
    "    \n",
    "    print(num_corrections,\"corrections made for temperature\")"
   ]
  },
  {
   "cell_type": "code",
   "execution_count": null,
   "metadata": {},
   "outputs": [],
   "source": [
    "def interpolate_UV_data(dfs, start_column_index):\n",
    "    num_corrections = 0\n",
    "    arr = dfs[\"uvIndex\"].to_numpy()\n",
    "    n = len(arr[0])\n",
    "    for row in arr:\n",
    "        for j in range(start_column_index+2,n-2): #avoid first 2 and last 2 vals for avging\n",
    "            if flag_UV_value(row, j):\n",
    "                row[j] = avg_neighbors(row, j)\n",
    "                num_corrections += 1\n",
    "    dfs[\"uvIndex\"] = pd.DataFrame(arr, columns = dfs[\"uvIndex\"].columns, index = dfs[\"uvIndex\"].index)\n",
    "        \n",
    "    print(num_corrections,\"corrections made for uvIndex\")"
   ]
  },
  {
   "cell_type": "code",
   "execution_count": null,
   "metadata": {},
   "outputs": [],
   "source": [
    "pollution_sheet_names = [\"pm2p5\", \"o3\", \"no2\", \"so2\"]\n",
    "\n",
    "main_var_sheet_names = [\"maxtempC\",\"mintempC\",\"avgtempC\",\"cloudcover\",\"humidity\",\"precipMM\",\"pressure\",\n",
    "           \"windspeedKmph\",\"totalSnow_cm\",'sunHour','moon_illumination','moonrise',\n",
    "           'moonset','sunrise','sunset','DewPointC','FeelsLikeC',#'HeatIndexC',\n",
    "            'WindChillC','WindGustKmph','visibility','winddirDegree','uvIndex'\n",
    "          ]\n",
    "\n",
    "temperature_vars = [\"maxtempC\",\"mintempC\",\"avgtempC\"]"
   ]
  },
  {
   "cell_type": "markdown",
   "metadata": {},
   "source": [
    "#### Load Pollution Files Here"
   ]
  },
  {
   "cell_type": "code",
   "execution_count": null,
   "metadata": {},
   "outputs": [],
   "source": [
    "file_name = \"\""
   ]
  },
  {
   "cell_type": "code",
   "execution_count": null,
   "metadata": {},
   "outputs": [],
   "source": [
    "dfs = pd.read_excel(file_name + \".xlsx\", index_col = 0, sheet_name = pollution_sheet_names)"
   ]
  },
  {
   "cell_type": "code",
   "execution_count": null,
   "metadata": {},
   "outputs": [],
   "source": [
    "start_column_index = list(dfs[\"pm2p5\"].columns).index(\"2019-01-01\")\n",
    "start_column_index"
   ]
  },
  {
   "cell_type": "code",
   "execution_count": null,
   "metadata": {},
   "outputs": [],
   "source": [
    "interpolate_pollution_data(dfs, start_column_index)"
   ]
  },
  {
   "cell_type": "code",
   "execution_count": null,
   "metadata": {},
   "outputs": [],
   "source": [
    "writer = pd.ExcelWriter('interpolated_'+ file_name +'.xlsx', engine='xlsxwriter')\n",
    "for var in dfs:\n",
    "    print(\"Saving\", var)\n",
    "    dfs[var].to_excel(writer, sheet_name = var, index = True)\n",
    "    \n",
    "writer.save()"
   ]
  },
  {
   "cell_type": "markdown",
   "metadata": {},
   "source": [
    "### Load Temperature Files Here"
   ]
  },
  {
   "cell_type": "code",
   "execution_count": null,
   "metadata": {},
   "outputs": [],
   "source": [
    "file_name = \"\""
   ]
  },
  {
   "cell_type": "code",
   "execution_count": null,
   "metadata": {},
   "outputs": [],
   "source": [
    "dfs = pd.read_excel(file_name + \".xlsx\", index_col = 0, sheet_name = main_var_sheet_names)"
   ]
  },
  {
   "cell_type": "code",
   "execution_count": null,
   "metadata": {},
   "outputs": [],
   "source": [
    "start_column_index = list(dfs[\"maxtempC\"].columns).index(\"2019-01-01\")\n",
    "start_column_index"
   ]
  },
  {
   "cell_type": "code",
   "execution_count": null,
   "metadata": {},
   "outputs": [],
   "source": [
    "interpolate_temperature_data(dfs, start_column_index)"
   ]
  },
  {
   "cell_type": "code",
   "execution_count": null,
   "metadata": {},
   "outputs": [],
   "source": [
    "interpolate_UV_data(dfs, start_column_index)"
   ]
  },
  {
   "cell_type": "code",
   "execution_count": null,
   "metadata": {},
   "outputs": [],
   "source": [
    "writer = pd.ExcelWriter('interpolated_'+ file_name +'.xlsx', engine='xlsxwriter')\n",
    "for var in dfs:\n",
    "    print(\"Saving\", var)\n",
    "    dfs[var].to_excel(writer, sheet_name = var, index = True)\n",
    "    \n",
    "writer.save()"
   ]
  },
  {
   "cell_type": "markdown",
   "metadata": {},
   "source": [
    "## Weighted Avg of Weather Variables"
   ]
  },
  {
   "cell_type": "markdown",
   "metadata": {},
   "source": [
    "Weights by population"
   ]
  },
  {
   "cell_type": "code",
   "execution_count": null,
   "metadata": {},
   "outputs": [],
   "source": [
    "pollution_sheet_names = [\"pm2p5\", \"o3\", \"no2\", \"so2\"]\n",
    "main_var_sheet_names = [\"maxtempC\",\"mintempC\",\"avgtempC\",\"cloudcover\",\"humidity\",\"precipMM\",\"pressure\",\n",
    "           \"windspeedKmph\",\"totalSnow_cm\",'sunHour','moon_illumination','moonrise',\n",
    "           'moonset','sunrise','sunset','DewPointC','FeelsLikeC',#'HeatIndexC',\n",
    "            'WindChillC','WindGustKmph','visibility','winddirDegree','uvIndex'\n",
    "          ]\n",
    "\n",
    "vars_not_to_weight = ['moonrise','moonset','sunrise','sunset']\n",
    "\n",
    "sheet_names = pollution_sheet_names"
   ]
  },
  {
   "cell_type": "code",
   "execution_count": null,
   "metadata": {},
   "outputs": [],
   "source": [
    "dfs = pd.read_excel(\"\", index_col = 0, \n",
    "                    sheet_name = sheet_names)\n",
    "\n",
    "#dfs = dict: sheet_names --> dataframes"
   ]
  },
  {
   "cell_type": "code",
   "execution_count": null,
   "metadata": {},
   "outputs": [],
   "source": [
    "for var in dfs:\n",
    "    df = dfs[var]\n",
    "    df.drop(columns = [\"Lat\", \"Long\"], inplace = True)\n"
   ]
  },
  {
   "cell_type": "code",
   "execution_count": null,
   "metadata": {},
   "outputs": [],
   "source": [
    "start_column_index = list(dfs[sheet_names[0]].columns).index(\"2019-01-01\")\n",
    "print(start_column_index)\n",
    "date_columns = list(dfs[sheet_names[0]].columns[start_column_index:])"
   ]
  },
  {
   "cell_type": "code",
   "execution_count": null,
   "metadata": {},
   "outputs": [],
   "source": [
    "countries = list(dict.fromkeys(dfs[sheet_names[0]].index))"
   ]
  },
  {
   "cell_type": "code",
   "execution_count": null,
   "metadata": {},
   "outputs": [],
   "source": [
    "print(countries)"
   ]
  },
  {
   "cell_type": "code",
   "execution_count": null,
   "metadata": {},
   "outputs": [],
   "source": [
    "dfs[sheet_names[0]].loc[countries[0]].iloc[0][:5]"
   ]
  },
  {
   "cell_type": "code",
   "execution_count": null,
   "metadata": {},
   "outputs": [],
   "source": [
    "def weighted_weather_for_country(country, df):\n",
    "    country_df = df.loc[country]\n",
    "    weights = np.array(country_df[\"Population\"])\n",
    "    weights = weights/np.sum(weights)\n",
    "    row = [country] #output row\n",
    "    for date in date_columns:\n",
    "        row.append(np.average(country_df[date], weights = weights))\n",
    "    \n",
    "    return row"
   ]
  },
  {
   "cell_type": "code",
   "execution_count": null,
   "metadata": {},
   "outputs": [],
   "source": [
    "output_frames = []\n",
    "for var in sheet_names:\n",
    "    data = []\n",
    "    df = dfs[var]\n",
    "    for country in countries:\n",
    "        if var in vars_not_to_weight:\n",
    "            row = [country] + list(df.iloc[0][start_column_index:])\n",
    "        else:\n",
    "            try:\n",
    "                row = weighted_weather_for_country(country, df)\n",
    "            except:\n",
    "                print(country, var)\n",
    "                break\n",
    "        data.append(row)\n",
    "        \n",
    "    df = pd.DataFrame(data, columns = [\"Country\"] + date_columns).set_index(\"Country\")\n",
    "    output_frames.append(df)\n",
    "    "
   ]
  },
  {
   "cell_type": "code",
   "execution_count": null,
   "metadata": {},
   "outputs": [],
   "source": [
    "writer = pd.ExcelWriter('Weights Applied.xlsx', engine='xlsxwriter') #rename!"
   ]
  },
  {
   "cell_type": "code",
   "execution_count": null,
   "metadata": {},
   "outputs": [],
   "source": [
    "for i, sheet in enumerate(output_frames):\n",
    "    sheet.to_excel(writer, sheet_name = sheet_names[i], index = True)"
   ]
  },
  {
   "cell_type": "code",
   "execution_count": null,
   "metadata": {},
   "outputs": [],
   "source": [
    "writer.save()"
   ]
  },
  {
   "cell_type": "markdown",
   "metadata": {},
   "source": [
    "## Reorder Global Rows based on canonical ordering"
   ]
  },
  {
   "cell_type": "code",
   "execution_count": null,
   "metadata": {},
   "outputs": [],
   "source": [
    "import pickle\n",
    "import pandas as pd"
   ]
  },
  {
   "cell_type": "code",
   "execution_count": null,
   "metadata": {},
   "outputs": [],
   "source": [
    "canonical_order = pickle.load(open(\"canonical_order.p\", \"rb\"))"
   ]
  },
  {
   "cell_type": "code",
   "execution_count": null,
   "metadata": {},
   "outputs": [],
   "source": [
    "canonical_order"
   ]
  },
  {
   "cell_type": "code",
   "execution_count": null,
   "metadata": {},
   "outputs": [],
   "source": [
    "weighted_countries = pickle.load(open(\"weighted_countries_list.p\", \"rb\"))"
   ]
  },
  {
   "cell_type": "code",
   "execution_count": null,
   "metadata": {},
   "outputs": [],
   "source": [
    "weighted_countries"
   ]
  },
  {
   "cell_type": "code",
   "execution_count": null,
   "metadata": {},
   "outputs": [],
   "source": [
    "pollution_sheet_names = [\"pm2p5\", \"o3\", \"no2\", \"so2\"]\n",
    "\n",
    "main_var_sheet_names = [\"maxtempC\",\"mintempC\",\"avgtempC\",\"cloudcover\",\"humidity\",\"precipMM\",\"pressure\",\n",
    "           \"windspeedKmph\",\"totalSnow_cm\",'sunHour','moon_illumination','moonrise',\n",
    "           'moonset','sunrise','sunset','DewPointC','FeelsLikeC',#'HeatIndexC',\n",
    "            'WindChillC','WindGustKmph','visibility','winddirDegree','uvIndex'\n",
    "          ]"
   ]
  },
  {
   "cell_type": "code",
   "execution_count": null,
   "metadata": {},
   "outputs": [],
   "source": [
    "weighted_filename = \"\"\n",
    "simple_filename = \"\""
   ]
  },
  {
   "cell_type": "code",
   "execution_count": null,
   "metadata": {},
   "outputs": [],
   "source": [
    "weighted_dfs = pd.read_excel(weighted_filename + \".xlsx\", index_col = 0, sheet_name = pollution_sheet_names)"
   ]
  },
  {
   "cell_type": "code",
   "execution_count": null,
   "metadata": {},
   "outputs": [],
   "source": [
    "simple_dfs = pd.read_excel(simple_filename + \".xlsx\", index_col = 0, sheet_name = pollution_sheet_names)"
   ]
  },
  {
   "cell_type": "code",
   "execution_count": null,
   "metadata": {},
   "outputs": [],
   "source": [
    "simple_dfs[\"pm2p5\"]"
   ]
  },
  {
   "cell_type": "code",
   "execution_count": null,
   "metadata": {},
   "outputs": [],
   "source": [
    "for var in simple_dfs:\n",
    "    simple_dfs[var].drop(weighted_countries, inplace = True)"
   ]
  },
  {
   "cell_type": "code",
   "execution_count": null,
   "metadata": {},
   "outputs": [],
   "source": [
    "final_dfs = {var:simple_dfs[var].append(weighted_dfs[var]) for var in simple_dfs}"
   ]
  },
  {
   "cell_type": "code",
   "execution_count": null,
   "metadata": {},
   "outputs": [],
   "source": [
    "columns = [\"lat\",\"long\"] + list(weighted_dfs[\"pm2p5\"].columns)"
   ]
  },
  {
   "cell_type": "code",
   "execution_count": null,
   "metadata": {},
   "outputs": [],
   "source": [
    "columns"
   ]
  },
  {
   "cell_type": "code",
   "execution_count": null,
   "metadata": {},
   "outputs": [],
   "source": [
    "for var in final_dfs:\n",
    "    final_dfs[var] = final_dfs[var].reindex(canonical_order)\n",
    "    final_dfs[var] = final_dfs[var][columns]"
   ]
  },
  {
   "cell_type": "code",
   "execution_count": null,
   "metadata": {},
   "outputs": [],
   "source": [
    "final_dfs[\"pm2p5\"]"
   ]
  },
  {
   "cell_type": "code",
   "execution_count": null,
   "metadata": {},
   "outputs": [],
   "source": [
    "final_dfs.keys()"
   ]
  },
  {
   "cell_type": "code",
   "execution_count": null,
   "metadata": {},
   "outputs": [],
   "source": [
    "writer = pd.ExcelWriter('Merged Global Pollution.xlsx', engine='xlsxwriter')"
   ]
  },
  {
   "cell_type": "code",
   "execution_count": null,
   "metadata": {},
   "outputs": [],
   "source": [
    "for var in final_dfs:\n",
    "    final_dfs[var].to_excel(writer, sheet_name = var, index = True)"
   ]
  },
  {
   "cell_type": "code",
   "execution_count": null,
   "metadata": {},
   "outputs": [],
   "source": [
    "writer.save()"
   ]
  }
 ],
 "metadata": {
  "kernelspec": {
   "display_name": "Python 3",
   "language": "python",
   "name": "python3"
  },
  "language_info": {
   "codemirror_mode": {
    "name": "ipython",
    "version": 3
   },
   "file_extension": ".py",
   "mimetype": "text/x-python",
   "name": "python",
   "nbconvert_exporter": "python",
   "pygments_lexer": "ipython3",
   "version": "3.7.6"
  }
 },
 "nbformat": 4,
 "nbformat_minor": 4
}
