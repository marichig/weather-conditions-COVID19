{
 "cells": [
  {
   "cell_type": "code",
   "execution_count": null,
   "metadata": {},
   "outputs": [],
   "source": [
    "import pprint\n",
    "from pyowm.uvindexapi30 import parsers, uv_client, uvindex\n",
    "from pyowm.commons.http_client import HttpClient\n",
    "from pyowm.caches.nullcache import NullCache\n",
    "from pyowm.utils import timeformatutils\n",
    "import pickle\n",
    "\n",
    "owm_api_key = \"\"\n",
    "\n",
    "import pytz\n",
    "from pytz.exceptions import UnknownTimeZoneError\n",
    "from tzwhere import tzwhere\n",
    "from datetime import date, datetime, timedelta, timezone\n",
    "\n",
    "import pandas as pd\n",
    "import time"
   ]
  },
  {
   "cell_type": "code",
   "execution_count": null,
   "metadata": {},
   "outputs": [],
   "source": [
    "parser = parsers.UVIndexParser()\n",
    "list_parser = parsers.UVIndexListParser()\n",
    "cache = NullCache()\n",
    "client = uv_client.UltraVioletHttpClient(owm_api_key,\n",
    "                                         HttpClient(cache=cache))"
   ]
  },
  {
   "cell_type": "markdown",
   "metadata": {},
   "source": [
    "### Adjust Data Collection Setting:"
   ]
  },
  {
   "cell_type": "markdown",
   "metadata": {},
   "source": [
    "Dataset to collect UV data for:"
   ]
  },
  {
   "cell_type": "code",
   "execution_count": null,
   "metadata": {},
   "outputs": [],
   "source": [
    "#dataset = \"US\"\n",
    "dataset = \"global\""
   ]
  },
  {
   "cell_type": "markdown",
   "metadata": {},
   "source": [
    "Set start and end date:"
   ]
  },
  {
   "cell_type": "code",
   "execution_count": null,
   "metadata": {},
   "outputs": [],
   "source": [
    "start_date_triple = (2019, 1, 23)\n",
    "end_date_triple = (2020, 4, 22)"
   ]
  },
  {
   "cell_type": "markdown",
   "metadata": {},
   "source": [
    "### Loading Template and Timezone Files:"
   ]
  },
  {
   "cell_type": "code",
   "execution_count": null,
   "metadata": {},
   "outputs": [],
   "source": [
    "template_filename = dataset + \"_template.xlsx\"\n",
    "timezones_filename = dataset + \"_timezones.xlsx\"\n",
    "locations = pd.read_excel(template_filename)\n",
    "locs_list = locations[\"Location\"]"
   ]
  },
  {
   "cell_type": "code",
   "execution_count": null,
   "metadata": {},
   "outputs": [],
   "source": [
    "timezones_df = pd.read_excel(timezones_filename)\n",
    "utc_offsets = list(timezones_df[\"UTC Offsets\"])"
   ]
  },
  {
   "cell_type": "code",
   "execution_count": null,
   "metadata": {},
   "outputs": [],
   "source": [
    "def perform_delta(start, end, delta):\n",
    "    curr = start\n",
    "    while curr < end:\n",
    "        yield curr\n",
    "        curr += delta"
   ]
  },
  {
   "cell_type": "code",
   "execution_count": null,
   "metadata": {},
   "outputs": [],
   "source": [
    "study_date_range = [\n",
    "    d.isoformat() for d in perform_delta(\n",
    "        date(start_date_triple[0], start_date_triple[1], start_date_triple[2]), \n",
    "        date(end_date_triple[0], end_date_triple[1], end_date_triple[2]), \n",
    "        timedelta(days=1)\n",
    "    )\n",
    "]"
   ]
  },
  {
   "cell_type": "code",
   "execution_count": null,
   "metadata": {},
   "outputs": [],
   "source": [
    "def get_query_template():\n",
    "    return {'lat': None, 'lon': None, \n",
    "          'start': None,\n",
    "          'end': None\n",
    "         }"
   ]
  },
  {
   "cell_type": "code",
   "execution_count": null,
   "metadata": {},
   "outputs": [],
   "source": [
    "lats=list(locations[\"Lat\"])\n",
    "longs = list(locations[\"Long\"])\n",
    "len(lats)"
   ]
  },
  {
   "cell_type": "code",
   "execution_count": null,
   "metadata": {},
   "outputs": [],
   "source": [
    "def get_start_and_end_for_location(lat, long, utc_offset):\n",
    "    tzone = timezone(timedelta(hours = utc_offset))\n",
    "        \n",
    "    start_noon_local = datetime(year = start_date_triple[0], \n",
    "                                  month = start_date_triple[1], \n",
    "                                  day = start_date_triple[2], \n",
    "                                  hour = 12,\n",
    "                                  tzinfo = tzone\n",
    "                                 )\n",
    "\n",
    "    end_noon_local = datetime(year = end_date_triple[0], \n",
    "                                  month = end_date_triple[1], \n",
    "                                  day = end_date_triple[2], \n",
    "                                  hour = 12,\n",
    "                                  tzinfo = tzone\n",
    "                                 )\n",
    "    return (\n",
    "          int(start_noon_local.timestamp()),\n",
    "          int(end_noon_local.timestamp())\n",
    "          )"
   ]
  },
  {
   "cell_type": "code",
   "execution_count": null,
   "metadata": {},
   "outputs": [],
   "source": [
    "def get_queries():\n",
    "    queries = []\n",
    "    for utc_offset, lat, long in zip(utc_offsets, lats, longs):\n",
    "        query = get_query_template()\n",
    "        query['lat'] = lat\n",
    "        query['lon'] = long\n",
    "        \n",
    "        start, end = get_start_and_end_for_location(lat, long, utc_offset)\n",
    "        query['start'] = start\n",
    "        query['end'] = end\n",
    "        \n",
    "        queries.append(query)\n",
    "    return queries"
   ]
  },
  {
   "cell_type": "code",
   "execution_count": null,
   "metadata": {},
   "outputs": [],
   "source": [
    "queries = get_queries()"
   ]
  },
  {
   "cell_type": "code",
   "execution_count": null,
   "metadata": {},
   "outputs": [],
   "source": [
    "#pickle.dump(queries, open(\"backup_queries.p\", \"wb\"))"
   ]
  },
  {
   "cell_type": "code",
   "execution_count": null,
   "metadata": {},
   "outputs": [],
   "source": [
    "results = []\n",
    "bad_indices = []"
   ]
  },
  {
   "cell_type": "code",
   "execution_count": null,
   "metadata": {},
   "outputs": [],
   "source": [
    "for i, q in enumerate(queries):\n",
    "    try:\n",
    "        results.append(client.get_uvi_history(q))\n",
    "        time.sleep(0.5)\n",
    "        #prevent rate of access exception. Takes 10 min for 600 locs\n",
    "    except Exception as e:\n",
    "        bad_indices.append(i)\n",
    "        print(e)\n",
    "        print(\"Exception arose for query \", q)\n",
    "        results.append(\"N/A\")\n",
    "        "
   ]
  },
  {
   "cell_type": "code",
   "execution_count": null,
   "metadata": {},
   "outputs": [],
   "source": [
    "bad_indices"
   ]
  },
  {
   "cell_type": "code",
   "execution_count": null,
   "metadata": {},
   "outputs": [],
   "source": [
    "#pickle.dump(results, open(\"backup_UVdata.p\", \"wb\"))"
   ]
  },
  {
   "cell_type": "code",
   "execution_count": null,
   "metadata": {},
   "outputs": [],
   "source": [
    "def clean_result(result):\n",
    "    result_list = list_parser.parse_JSON(result)\n",
    "    values = {}\n",
    "    for r in result_list:\n",
    "        date_string = r.get_reference_time(timeformat = 'iso')[:10]\n",
    "        values[date_string] = r.get_value()\n",
    "    \n",
    "    return values"
   ]
  },
  {
   "cell_type": "code",
   "execution_count": null,
   "metadata": {},
   "outputs": [],
   "source": [
    "clean_results = []\n",
    "for result in results:\n",
    "    clean_results.append(clean_result(result))\n",
    "\n",
    "print(len(clean_results))"
   ]
  },
  {
   "cell_type": "code",
   "execution_count": null,
   "metadata": {},
   "outputs": [],
   "source": [
    "locations.head()"
   ]
  },
  {
   "cell_type": "code",
   "execution_count": null,
   "metadata": {},
   "outputs": [],
   "source": [
    "def get_date_data(date_string):\n",
    "    ordered_data = []\n",
    "    for clean_result in clean_results:\n",
    "        if date_string in clean_result:\n",
    "            ordered_data.append(clean_result[date_string])\n",
    "        else:\n",
    "            ordered_data.append(\"\")\n",
    "    \n",
    "    return ordered_data"
   ]
  },
  {
   "cell_type": "code",
   "execution_count": null,
   "metadata": {},
   "outputs": [],
   "source": [
    "date_columns = list(locations.columns[3:])\n",
    "date_columns[:5]"
   ]
  },
  {
   "cell_type": "code",
   "execution_count": null,
   "metadata": {},
   "outputs": [],
   "source": [
    "for date_string in date_columns:\n",
    "    data = get_date_data(date_string)\n",
    "    locations[date_string] = data"
   ]
  },
  {
   "cell_type": "code",
   "execution_count": null,
   "metadata": {},
   "outputs": [],
   "source": [
    "output_filename = \" \".join((dataset,\n",
    "                           \"UV Data\", \n",
    "                           \"-\".join(map(str,start_date_triple)),\n",
    "                           \"to\",\n",
    "                           \"-\".join(map(str,end_date_triple))\n",
    "                          ))\n",
    "\n",
    "output_filename"
   ]
  },
  {
   "cell_type": "code",
   "execution_count": null,
   "metadata": {},
   "outputs": [],
   "source": [
    "locations.to_excel(output_filename + \".xlsx\", index = False)"
   ]
  }
 ],
 "metadata": {
  "kernelspec": {
   "display_name": "Python 3",
   "language": "python",
   "name": "python3"
  },
  "language_info": {
   "codemirror_mode": {
    "name": "ipython",
    "version": 3
   },
   "file_extension": ".py",
   "mimetype": "text/x-python",
   "name": "python",
   "nbconvert_exporter": "python",
   "pygments_lexer": "ipython3",
   "version": "3.8.1"
  }
 },
 "nbformat": 4,
 "nbformat_minor": 4
}
