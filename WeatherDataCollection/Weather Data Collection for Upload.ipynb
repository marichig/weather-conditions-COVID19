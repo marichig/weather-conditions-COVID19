{
 "cells": [
  {
   "cell_type": "code",
   "execution_count": null,
   "metadata": {},
   "outputs": [],
   "source": [
    "from wwo_hist import retrieve_hist_data\n",
    "import pandas as pd\n",
    "import numpy as np\n",
    "import pickle"
   ]
  },
  {
   "cell_type": "code",
   "execution_count": null,
   "metadata": {},
   "outputs": [],
   "source": [
    "template_file_name = \"NAME.xlsx\"\n",
    "locations = pd.read_excel(template_file_name)"
   ]
  },
  {
   "cell_type": "code",
   "execution_count": null,
   "metadata": {},
   "outputs": [],
   "source": [
    "def query_from_coords(tup):\n",
    "    return str(tup[0]) + \",\" + str(tup[1])"
   ]
  },
  {
   "cell_type": "code",
   "execution_count": null,
   "metadata": {},
   "outputs": [],
   "source": [
    "frequency= 24 #hrs\n",
    "start = \"23-JAN-2019\"\n",
    "end = \"22-APR-2020\"\n",
    "\n",
    "api_key = \"\""
   ]
  },
  {
   "cell_type": "code",
   "execution_count": null,
   "metadata": {},
   "outputs": [],
   "source": [
    "lats = list(locations[\"lat\"])\n",
    "longs = list(locations[\"long\"])\n",
    "queries = [query_from_coords(item) for item in zip(lats, longs)]"
   ]
  },
  {
   "cell_type": "code",
   "execution_count": null,
   "metadata": {},
   "outputs": [],
   "source": [
    "queries[0]"
   ]
  },
  {
   "cell_type": "code",
   "execution_count": null,
   "metadata": {},
   "outputs": [],
   "source": [
    "len(queries)"
   ]
  },
  {
   "cell_type": "code",
   "execution_count": null,
   "metadata": {},
   "outputs": [],
   "source": [
    "all_results = []\n",
    "bad_queries = []\n",
    "\n",
    "for index, q in enumerate(queries):\n",
    "    if q == 'nan,nan':\n",
    "        all_results.append('N/A')\n",
    "        continue\n",
    "        \n",
    "    q_list = [q]\n",
    "    try:\n",
    "        result = retrieve_hist_data(api_key,\n",
    "                                q_list,\n",
    "                                start,\n",
    "                                end,\n",
    "                                frequency,\n",
    "                                location_label = False,\n",
    "                                export_csv = True,\n",
    "                                store_df = True)\n",
    "        all_results.append(result[0])\n",
    "    except Exception as e:\n",
    "        print(e)\n",
    "        tup = (index, q)\n",
    "        bad_queries.append(tup)\n",
    "        all_results.append(tup)"
   ]
  },
  {
   "cell_type": "code",
   "execution_count": null,
   "metadata": {},
   "outputs": [],
   "source": [
    "bad_queries"
   ]
  },
  {
   "cell_type": "code",
   "execution_count": null,
   "metadata": {},
   "outputs": [],
   "source": [
    "pickle.dump(all_results, open(\"all_results_save.p\", \"wb\"))"
   ]
  },
  {
   "cell_type": "code",
   "execution_count": null,
   "metadata": {},
   "outputs": [],
   "source": [
    "len(all_results)"
   ]
  },
  {
   "cell_type": "markdown",
   "metadata": {},
   "source": [
    "## Export Weather Data to Excel"
   ]
  },
  {
   "cell_type": "code",
   "execution_count": null,
   "metadata": {},
   "outputs": [],
   "source": [
    "all_results[0]"
   ]
  },
  {
   "cell_type": "code",
   "execution_count": null,
   "metadata": {},
   "outputs": [],
   "source": [
    "test = all_results[1]\n",
    "test.columns.duplicated()"
   ]
  },
  {
   "cell_type": "code",
   "execution_count": null,
   "metadata": {},
   "outputs": [],
   "source": [
    "for i, r in enumerate(all_results):\n",
    "    if not isinstance(r,str):\n",
    "        try:\n",
    "            all_results[i] = r.loc[:,~r.columns.duplicated()]\n",
    "        except Exception as e:\n",
    "            print(e)\n",
    "            print(i)\n",
    "            print(r)\n",
    "            break"
   ]
  },
  {
   "cell_type": "code",
   "execution_count": null,
   "metadata": {},
   "outputs": [],
   "source": [
    "len(all_results)"
   ]
  },
  {
   "cell_type": "code",
   "execution_count": null,
   "metadata": {},
   "outputs": [],
   "source": [
    "NA_indices = [i for i,e in enumerate(all_results) if isinstance(e,str)]\n",
    "NA_indices"
   ]
  },
  {
   "cell_type": "code",
   "execution_count": null,
   "metadata": {},
   "outputs": [],
   "source": [
    "new_results = []\n",
    "for i,df in enumerate(all_results):\n",
    "    if i in NA_indices:\n",
    "        new_results.append(df)\n",
    "        continue\n",
    "        \n",
    "    df['maxtempC']=df['maxtempC'].apply(int)\n",
    "    df['mintempC']= df['mintempC'].apply(int)\n",
    "    maxs = np.asarray(list(df[\"maxtempC\"]))\n",
    "    mins = np.asarray(list(df[\"mintempC\"]))\n",
    "    avg = np.add(maxs, mins)\n",
    "    avg = np.true_divide(avg,2)\n",
    "    df['avgtempC'] = avg.tolist()\n",
    "    \n",
    "    new_results.append(df)"
   ]
  },
  {
   "cell_type": "code",
   "execution_count": null,
   "metadata": {},
   "outputs": [],
   "source": [
    "template = pd.read_excel(template_file_name, index = False)\n",
    "date_columns = list(template.columns[-10:])\n",
    "date_columns"
   ]
  },
  {
   "cell_type": "code",
   "execution_count": null,
   "metadata": {},
   "outputs": [],
   "source": [
    "def generate_excel_tabs(feature_names, results):\n",
    "    output = [pd.read_excel(template_file_name) for i in range(len(feature_names))]\n",
    "    column_names = template.columns\n",
    "    for i, df in enumerate(results):\n",
    "        if i in NA_indices:\n",
    "            continue\n",
    "        for k, feature_name in enumerate(feature_names):\n",
    "            values = list(df.loc[:,feature_name])\n",
    "            for j, date in enumerate(date_columns):\n",
    "                try:\n",
    "                    output[k][date][i] = values[j]\n",
    "                except IndexError as e:\n",
    "                    print(feature_name)\n",
    "                    print (\"j:\",j, \" date:\",date, \"i:\", i)\n",
    "                    print(e)\n",
    "    \n",
    "    return output"
   ]
  },
  {
   "cell_type": "code",
   "execution_count": null,
   "metadata": {},
   "outputs": [],
   "source": [
    "results = new_results\n",
    "features = [\"maxtempC\",\"mintempC\",\"avgtempC\",\"cloudcover\",\"humidity\",\"precipMM\",\"pressure\",\n",
    "           \"windspeedKmph\",\"totalSnow_cm\",'sunHour','moon_illumination','moonrise',\n",
    "           'moonset','sunrise','sunset','DewPointC','FeelsLikeC',\n",
    "            'WindChillC','WindGustKmph','visibility','winddirDegree',\n",
    "          ]\n",
    "len(features)\n",
    "\n",
    "excel_output = generate_excel_tabs(features, results)"
   ]
  },
  {
   "cell_type": "code",
   "execution_count": null,
   "metadata": {},
   "outputs": [],
   "source": [
    "writer = pd.ExcelWriter('weather data.xlsx', engine='xlsxwriter')"
   ]
  },
  {
   "cell_type": "code",
   "execution_count": null,
   "metadata": {},
   "outputs": [],
   "source": [
    "for i, sheet in enumerate(excel_output):\n",
    "    sheet.to_excel(writer, sheet_name = features[i], index = False)"
   ]
  },
  {
   "cell_type": "code",
   "execution_count": null,
   "metadata": {},
   "outputs": [],
   "source": [
    "writer.save()"
   ]
  },
  {
   "cell_type": "markdown",
   "metadata": {},
   "source": [
    "## Testing"
   ]
  },
  {
   "cell_type": "code",
   "execution_count": null,
   "metadata": {},
   "outputs": [],
   "source": [
    "LA_coords = \"34.05,-118.25\"\n",
    "start = \"11-APR-2020\"\n",
    "end = \"12-APR-2020\"\n",
    "result = retrieve_hist_data(api_keys[0],\n",
    "                                [LA_coords],\n",
    "                                start,\n",
    "                                end,\n",
    "                                frequency,\n",
    "                                location_label = False,\n",
    "                                export_csv = False,\n",
    "                                store_df = True)"
   ]
  },
  {
   "cell_type": "code",
   "execution_count": null,
   "metadata": {},
   "outputs": [],
   "source": [
    "result[0]"
   ]
  }
 ],
 "metadata": {
  "kernelspec": {
   "display_name": "Python 3",
   "language": "python",
   "name": "python3"
  },
  "language_info": {
   "codemirror_mode": {
    "name": "ipython",
    "version": 3
   },
   "file_extension": ".py",
   "mimetype": "text/x-python",
   "name": "python",
   "nbconvert_exporter": "python",
   "pygments_lexer": "ipython3",
   "version": "3.8.1"
  }
 },
 "nbformat": 4,
 "nbformat_minor": 4
}
