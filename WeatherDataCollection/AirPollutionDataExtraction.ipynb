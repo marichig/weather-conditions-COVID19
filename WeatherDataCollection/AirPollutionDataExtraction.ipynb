{
 "cells": [
  {
   "cell_type": "code",
   "execution_count": 1,
   "metadata": {},
   "outputs": [],
   "source": [
    "import netCDF4\n",
    "from netCDF4 import Dataset\n",
    "import pandas as pd\n",
    "import datetime\n",
    "import os"
   ]
  },
  {
   "cell_type": "code",
   "execution_count": 2,
   "metadata": {},
   "outputs": [],
   "source": [
    "directory = \"\"\n",
    "os.chdir(directory)"
   ]
  },
  {
   "cell_type": "markdown",
   "metadata": {},
   "source": [
    "## Set Template and Files"
   ]
  },
  {
   "cell_type": "markdown",
   "metadata": {},
   "source": [
    "Data for gases (ozone, sulfur dioxide, and nitrogen dioxide) and data for particulate matter are stored in a different batch of files. Further, different templates are used depending on the dataset to be gathered. Change following boolean to decide which files to read."
   ]
  },
  {
   "cell_type": "code",
   "execution_count": null,
   "metadata": {},
   "outputs": [],
   "source": [
    "read_pm_files = False"
   ]
  },
  {
   "cell_type": "code",
   "execution_count": 1,
   "metadata": {},
   "outputs": [],
   "source": [
    "template_file_name = \"US_pollution_template.xlsx\"\n",
    "#template_file_name = \"global_simple_pollution_template.xlsx\"\n",
    "#template_file_name = \"city granular_template.xlsx\"\n",
    "#template_file_name = \"1072_pollution_template.xlsx\""
   ]
  },
  {
   "cell_type": "code",
   "execution_count": 3,
   "metadata": {},
   "outputs": [
    {
     "data": {
      "text/plain": [
       "'US_pollution'"
      ]
     },
     "execution_count": 3,
     "metadata": {},
     "output_type": "execute_result"
    }
   ],
   "source": [
    "template_file_name[:-14]"
   ]
  },
  {
   "cell_type": "code",
   "execution_count": null,
   "metadata": {},
   "outputs": [],
   "source": [
    "if read_pm_files:\n",
    "    pm_df = pd.read_excel(template_file_name)\n",
    "else:\n",
    "    no2_df = pd.read_excel(template_file_name)\n",
    "    o3_df = pd.read_excel(template_file_name)\n",
    "    so2_df = pd.read_excel(template_file_name)"
   ]
  },
  {
   "cell_type": "code",
   "execution_count": null,
   "metadata": {},
   "outputs": [],
   "source": [
    "if read_pm_files:\n",
    "    lookup_lats, lookup_longs = pm_df[\"Lat\"], pm_df[\"Long\"]\n",
    "else:\n",
    "    lookup_lats, lookup_longs = no2_df[\"Lat\"], no2_df[\"Long\"]"
   ]
  },
  {
   "cell_type": "markdown",
   "metadata": {},
   "source": [
    "The following returns the lat/long indices closest to a desired point, and is used for reading from the netCDF4 layer."
   ]
  },
  {
   "cell_type": "code",
   "execution_count": 8,
   "metadata": {},
   "outputs": [],
   "source": [
    "def getClosest_ij(lats, longs, latpt, longpt):\n",
    "    #Manhattan Distance\n",
    "    i = abs(lats - latpt).argmin()\n",
    "    j = abs(longs - longpt).argmin()\n",
    "    return i,j"
   ]
  },
  {
   "cell_type": "code",
   "execution_count": 9,
   "metadata": {},
   "outputs": [],
   "source": [
    "def fill_dataframes(month, month_length, year):\n",
    "    for i in range(month_length):\n",
    "        no2_col = []\n",
    "        o3_col = []\n",
    "        so2_col = []\n",
    "        pm_col = []\n",
    "        for lat, long in zip(lookup_lats, lookup_longs):\n",
    "            iy, ix = getClosest_ij(lats, lons, lat, long)\n",
    "            if read_pm_files:\n",
    "                pm_col.append(pm[i][iy][ix])\n",
    "            else:\n",
    "                so2_col.append(so2[i][iy][ix])\n",
    "                no2_col.append(no2[i][iy][ix])\n",
    "                o3_col.append(o3[i][iy][ix])\n",
    "            \n",
    "        key = datetime.datetime(year, month, i+1).strftime(\"%Y-%m-%d\")\n",
    "        print(key)\n",
    "        \n",
    "        if read_pm_files:\n",
    "            pm_df[key] = pm_col\n",
    "        else:\n",
    "            so2_df[key] = so2_col\n",
    "            no2_df[key] = no2_col\n",
    "            o3_df[key] = o3_col"
   ]
  },
  {
   "cell_type": "markdown",
   "metadata": {},
   "source": [
    "The following are maps from file names to month, number of days, and year triples, with the triples being used to group the data by data. Notice that for the gases argument map (ozone, sulfur dioxide, nitrogen dioxide), July 2017 is commented out - this month is handled separately due to a shift in ECMWF's reporting structure."
   ]
  },
  {
   "cell_type": "code",
   "execution_count": 15,
   "metadata": {},
   "outputs": [],
   "source": [
    "pm_argument_map = {\n",
    "    \"1Jan2019\":(1,31,2019),\n",
    "    \"2Feb2019\":(2,28,2019),\n",
    "    \"3March2019\":(3,31,2019),\n",
    "    \"4April2019\":(4,30,2019),\n",
    "    \"5May2019\":(5,31,2019),\n",
    "    \"6June2019\":(6,30,2019),\n",
    "    \"7July2019\":(7,31,2019),\n",
    "    \"8Auguest2019\":(8,31,2019),\n",
    "    \"9September2019\":(9,30,2019),\n",
    "    \"10October2019\":(10,31,2019),\n",
    "    \"11November2019\":(11,30,2019),\n",
    "    \"Dec2019\":(12,31,2019),\n",
    "    \"Jan2020\":(1,31,2020),\n",
    "    \"Feb2020\":(2,29,2020),\n",
    "    \"March2020\":(3,31,2020),\n",
    "    \"April2020\":(4,30,2020)\n",
    "}"
   ]
  },
  {
   "cell_type": "code",
   "execution_count": null,
   "metadata": {},
   "outputs": [],
   "source": [
    "gases_argument_map = {\n",
    "    \"1 Jan2019\":(1,31,2019),\n",
    "    \"2 Feb2019\":(2,28,2019),\n",
    "    \"3 March2019\":(3,31,2019),\n",
    "    \"4 April2019\":(4,30,2019),\n",
    "    \"5 May2019\":(5,31,2019),\n",
    "    \"6 June2019\":(6,30,2019),\n",
    "    #\"7 July2019\":(7,31,2019),\n",
    "    \"8 Aug2019\":(8,31,2019),\n",
    "    \"9 Sep2019\":(9,30,2019),\n",
    "    \"10 Oct2019\":(10,31,2019),\n",
    "    \"11 Nov2019\":(11,30,2019),\n",
    "    \"12 Dec2019\":(12,31,2019),\n",
    "    \"Jan2020\":(1,31,2020),\n",
    "    \"Feb2020\":(2,29,2020),\n",
    "    \"March2020\":(3,31,2020),\n",
    "    \"April2020\":(4,30,2020)\n",
    "}"
   ]
  },
  {
   "cell_type": "code",
   "execution_count": null,
   "metadata": {},
   "outputs": [],
   "source": [
    "if read_pm_files:\n",
    "    month_argument_map = pm_argument_map\n",
    "else:\n",
    "    month_argument_map = gases_argument_map\n",
    "    \n",
    "for file in month_argument_map:\n",
    "    f = Dataset(file + \".nc\", format=\"NETCDF4\")\n",
    "\n",
    "    lats, lons = f.variables[\"latitude\"][:], f.variables[\"longitude\"][:]\n",
    "    if read_pm_files:\n",
    "        pm = f.variables['pm2p5'][:]\n",
    "    else:\n",
    "        no2 = f.variables['no2'][:]\n",
    "        o3 = f.variables['go3'][:]\n",
    "        so2 = f.variables['so2'][:]\n",
    "\n",
    "    arg = month_argument_map[file]\n",
    "\n",
    "    fill_dataframes(arg[0], arg[1], arg[2])"
   ]
  },
  {
   "cell_type": "code",
   "execution_count": null,
   "metadata": {},
   "outputs": [],
   "source": [
    "if read_pm_files:\n",
    "    doc_name = template_file_name[:-14]+\"_pm\"\n",
    "else:\n",
    "    doc_name = template_file_name[:-14]+\"_gases\""
   ]
  },
  {
   "cell_type": "code",
   "execution_count": null,
   "metadata": {},
   "outputs": [],
   "source": [
    "writer = pd.ExcelWriter(doc_name+'.xlsx', engine='xlsxwriter')"
   ]
  },
  {
   "cell_type": "code",
   "execution_count": null,
   "metadata": {},
   "outputs": [],
   "source": [
    "if read_pm_files:\n",
    "    pm_df.to_excel(writer, sheet_name = \"pm2p5\", index = False)\n",
    "else:\n",
    "    o3_df.to_excel(writer, sheet_name = \"o3\", index = False)\n",
    "    no2_df.to_excel(writer, sheet_name = \"no2\", index = False)\n",
    "    so2_df.to_excel(writer, sheet_name = \"so2\", index = False)"
   ]
  },
  {
   "cell_type": "code",
   "execution_count": null,
   "metadata": {},
   "outputs": [],
   "source": [
    "writer.close()"
   ]
  },
  {
   "cell_type": "markdown",
   "metadata": {},
   "source": [
    "## Manually Reading July2019 Gas Data"
   ]
  },
  {
   "cell_type": "markdown",
   "metadata": {},
   "source": [
    "ECMWF shifted their reporting for ozone, sulfur dioxide, and nitrogen dioxide from 60 levels of vertical resolution to 137 (see https://confluence.ecmwf.int/display/COPSRV/Implementation+of+IFS+cycle+46r1), so we read both and patch them together at their transition date, which was July 9 2019."
   ]
  },
  {
   "cell_type": "code",
   "execution_count": 4,
   "metadata": {},
   "outputs": [],
   "source": [
    "data60 = Dataset(\"7 July2019 level 60 up to here.nc\", format=\"NETCDF4\")"
   ]
  },
  {
   "cell_type": "code",
   "execution_count": 4,
   "metadata": {},
   "outputs": [],
   "source": [
    "data137 = Dataset(\"7 Jul2019 level 137 from here.nc\", format=\"NETCDF4\")"
   ]
  },
  {
   "cell_type": "code",
   "execution_count": null,
   "metadata": {},
   "outputs": [],
   "source": [
    "template_file_name = \"US_pollution_template.xlsx\"\n",
    "#template_file_name = \"global_simple_pollution_template.xlsx\"\n",
    "#template_file_name = \"city granular_template.xlsx\"\n",
    "#template_file_name = \"1072_pollution_template.xlsx\""
   ]
  },
  {
   "cell_type": "code",
   "execution_count": null,
   "metadata": {},
   "outputs": [],
   "source": [
    "no2_df = pd.read_excel(template_file_name)\n",
    "o3_df = pd.read_excel(template_file_name)\n",
    "so2_df = pd.read_excel(template_file_name)"
   ]
  },
  {
   "cell_type": "code",
   "execution_count": null,
   "metadata": {},
   "outputs": [],
   "source": [
    "lookup_lats, lookup_longs = no2_df[\"Lat\"], no2_df[\"Long\"]"
   ]
  },
  {
   "cell_type": "code",
   "execution_count": null,
   "metadata": {},
   "outputs": [],
   "source": [
    "lats, lons = data60.variables[\"latitude\"][:], data60.variables[\"longitude\"][:]\n",
    "no2 = data60.variables['no2'][:]\n",
    "o3 = data60.variables['go3'][:]\n",
    "so2 = data60.variables['so2'][:]\n",
    "\n",
    "fill_dataframes(7, 31, 2019)"
   ]
  },
  {
   "cell_type": "code",
   "execution_count": null,
   "metadata": {},
   "outputs": [],
   "source": [
    "writer = pd.ExcelWriter(template_file_name[:-14] + ' July - Level 60.xlsx', engine='xlsxwriter')\n",
    "\n",
    "o3_df.to_excel(writer, sheet_name = \"o3\", index = False)\n",
    "no2_df.to_excel(writer, sheet_name = \"no2\", index = False)\n",
    "so2_df.to_excel(writer, sheet_name = \"so2\", index = False)\n",
    "\n",
    "writer.close()"
   ]
  },
  {
   "cell_type": "markdown",
   "metadata": {},
   "source": [
    "### Level 137 Data"
   ]
  },
  {
   "cell_type": "code",
   "execution_count": 5,
   "metadata": {},
   "outputs": [],
   "source": [
    "no2_df = pd.read_excel(template_file_name)\n",
    "o3_df = pd.read_excel(template_file_name)\n",
    "so2_df = pd.read_excel(template_file_name)"
   ]
  },
  {
   "cell_type": "code",
   "execution_count": 6,
   "metadata": {},
   "outputs": [],
   "source": [
    "lookup_lats, lookup_longs = no2_df[\"Lat\"], no2_df[\"Long\"]"
   ]
  },
  {
   "cell_type": "code",
   "execution_count": 10,
   "metadata": {},
   "outputs": [
    {
     "name": "stdout",
     "output_type": "stream",
     "text": [
      "2019-07-01\n",
      "2019-07-02\n",
      "2019-07-03\n",
      "2019-07-04\n",
      "2019-07-05\n",
      "2019-07-06\n",
      "2019-07-07\n",
      "2019-07-08\n",
      "2019-07-09\n",
      "2019-07-10\n",
      "2019-07-11\n",
      "2019-07-12\n",
      "2019-07-13\n",
      "2019-07-14\n",
      "2019-07-15\n",
      "2019-07-16\n",
      "2019-07-17\n",
      "2019-07-18\n",
      "2019-07-19\n",
      "2019-07-20\n",
      "2019-07-21\n",
      "2019-07-22\n",
      "2019-07-23\n"
     ]
    }
   ],
   "source": [
    "lats, lons = data137.variables[\"latitude\"][:], data137.variables[\"longitude\"][:]\n",
    "no2 = data137.variables['no2'][:]\n",
    "o3 = data137.variables['go3'][:]\n",
    "so2 = data137.variables['so2'][:]\n",
    "\n",
    "fill_dataframes(7, 23, 2019) #only reading 23 days since data begins on July 9."
   ]
  },
  {
   "cell_type": "code",
   "execution_count": 11,
   "metadata": {},
   "outputs": [],
   "source": [
    "writer = pd.ExcelWriter(template_file_name[:-14] + ' July - Level 137.xlsx', engine='xlsxwriter')\n",
    "\n",
    "o3_df.to_excel(writer, sheet_name = \"o3\", index = False)\n",
    "no2_df.to_excel(writer, sheet_name = \"no2\", index = False)\n",
    "so2_df.to_excel(writer, sheet_name = \"so2\", index = False)\n",
    "\n",
    "writer.close()"
   ]
  }
 ],
 "metadata": {
  "kernelspec": {
   "display_name": "Python 3",
   "language": "python",
   "name": "python3"
  },
  "language_info": {
   "codemirror_mode": {
    "name": "ipython",
    "version": 3
   },
   "file_extension": ".py",
   "mimetype": "text/x-python",
   "name": "python",
   "nbconvert_exporter": "python",
   "pygments_lexer": "ipython3",
   "version": "3.7.6"
  }
 },
 "nbformat": 4,
 "nbformat_minor": 4
}
